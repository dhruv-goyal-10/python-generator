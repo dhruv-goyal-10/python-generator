{
  "nbformat": 4,
  "nbformat_minor": 0,
  "metadata": {
    "colab": {
      "provenance": [],
      "authorship_tag": "ABX9TyNg0u39avpruLnG7Ab2JtNS",
      "include_colab_link": true
    },
    "kernelspec": {
      "name": "python3",
      "display_name": "Python 3"
    },
    "language_info": {
      "name": "python"
    }
  },
  "cells": [
    {
      "cell_type": "markdown",
      "metadata": {
        "id": "view-in-github",
        "colab_type": "text"
      },
      "source": [
        "<a href=\"https://colab.research.google.com/github/dhruv-goyal-10/python-generator/blob/master/python_generator_function.ipynb\" target=\"_parent\"><img src=\"https://colab.research.google.com/assets/colab-badge.svg\" alt=\"Open In Colab\"/></a>"
      ]
    },
    {
      "cell_type": "code",
      "source": [
        "import tracemalloc\n",
        "\n",
        "tracemalloc.start()\n",
        "def primes(n):\n",
        "    cnt = 0\n",
        "    start = 2\n",
        "    while cnt < n:\n",
        "        factors = 0\n",
        "        i = 2\n",
        "        while (i * i <= start):\n",
        "            if start % i == 0:\n",
        "                factors += 1\n",
        "            i += 1\n",
        "\n",
        "        if factors == 0:\n",
        "            cnt += 1\n",
        "            yield start\n",
        "        start += 1\n",
        "\n",
        "def square(nums):\n",
        "    for num in nums:\n",
        "        yield num * num\n",
        "\n",
        "\n",
        "\n",
        "# Calculate primes and squares and track memory usage\n",
        "n = 10000\n",
        "for _ in square(primes(n)):\n",
        "    # print(_, end = \" \")\n",
        "    result = _\n",
        "# print()\n",
        "\n",
        "current, peak = tracemalloc.get_traced_memory()\n",
        "\n",
        "print(f\"Current memory usage: {current / (1024 * 1024):.2f} MB\")\n",
        "print(f\"Peak memory usage: {peak / (1024 * 1024):.2f} MB\")\n",
        "tracemalloc.stop()\n",
        "\n",
        "\n"
      ],
      "metadata": {
        "colab": {
          "base_uri": "https://localhost:8080/"
        },
        "id": "_nezbsjVAZaG",
        "outputId": "e59b93ec-8760-4ea8-831c-4996edba2471"
      },
      "execution_count": 43,
      "outputs": [
        {
          "output_type": "stream",
          "name": "stdout",
          "text": [
            "Current memory usage: 0.02 MB\n",
            "Peak memory usage: 0.09 MB\n"
          ]
        }
      ]
    },
    {
      "cell_type": "code",
      "source": [
        "tracemalloc.start()\n",
        "\n",
        "def primes(n) -> list:\n",
        "    primes_list = list()\n",
        "    cnt = 0\n",
        "    start = 2\n",
        "    while cnt < n:\n",
        "        factors = 0\n",
        "        i = 2\n",
        "        while (i * i <= start):\n",
        "            if start % i == 0:\n",
        "                factors += 1\n",
        "            i += 1\n",
        "\n",
        "        if factors == 0:\n",
        "            cnt += 1\n",
        "            primes_list.append(start)\n",
        "        start += 1\n",
        "    return primes_list\n",
        "\n",
        "def square(nums: list) -> list:\n",
        "    squares_list = list()\n",
        "    for num in nums:\n",
        "        squares_list.append(num * num)\n",
        "    return squares_list\n",
        "\n",
        "\n",
        "n = 10000\n",
        "for _ in square(primes(n)):\n",
        "    result = _\n",
        "    # print(_, end = \" \")\n",
        "\n",
        "# print()\n",
        "current, peak = tracemalloc.get_traced_memory()\n",
        "print(f\"Current memory usage: {current / (1024 * 1024):.2f} MB\")\n",
        "print(f\"Peak memory usage: {peak / (1024 * 1024):.2f} MB\")\n",
        "tracemalloc.stop()\n",
        "\n",
        "\n"
      ],
      "metadata": {
        "id": "LZn2e_ieBEU-",
        "colab": {
          "base_uri": "https://localhost:8080/"
        },
        "outputId": "9eda57d4-67d5-4ffb-9e28-05273df7230d"
      },
      "execution_count": 42,
      "outputs": [
        {
          "output_type": "stream",
          "name": "stdout",
          "text": [
            "Current memory usage: 0.04 MB\n",
            "Peak memory usage: 0.75 MB\n"
          ]
        }
      ]
    },
    {
      "cell_type": "code",
      "source": [],
      "metadata": {
        "id": "TAio-SD9FkzH"
      },
      "execution_count": null,
      "outputs": []
    }
  ]
}